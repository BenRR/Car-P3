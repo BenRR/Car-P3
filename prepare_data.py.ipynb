{
 "cells": [
  {
   "cell_type": "code",
   "execution_count": 56,
   "metadata": {
    "collapsed": true
   },
   "outputs": [],
   "source": [
    "import csv\n",
    "import os\n",
    "import shutil\n",
    "\n",
    "data_dir =\"{}/Desktop\".format(os.environ['HOME'])\n",
    "final_dir = 'final'\n",
    "driving_file = 'driving_log.csv'\n",
    "final_data_file = '{0}/{1}'.format(final_dir, driving_file)"
   ]
  },
  {
   "cell_type": "code",
   "execution_count": 57,
   "metadata": {},
   "outputs": [],
   "source": [
    "def copy_img(source, target):\n",
    "    for file in os.listdir('{0}/{1}/'.format(data_dir, source)):\n",
    "        shutil.copy2('{0}/{1}/{2}'.format(data_dir, source, file),\n",
    "                     '{0}/{1}/'.format(data_dir, target))"
   ]
  },
  {
   "cell_type": "code",
   "execution_count": 58,
   "metadata": {},
   "outputs": [],
   "source": [
    "filtered_edges_dir = 'filtered_edges'\n",
    "\n",
    "# only use the turning data from this set\n",
    "def filter_edges(folder = 'track1-edges'):\n",
    "    with open('{0}/{1}/{2}'.format(data_dir,filtered_edges_dir,driving_file),'a') as target_file:\n",
    "        writer = csv.writer(target_file)\n",
    "        with open('{0}/{1}/{2}'.format(data_dir,folder,driving_file)) as source_file:\n",
    "            reader = csv.reader(source_file)\n",
    "            for line in reader:\n",
    "                if float(line[3])!=0 :\n",
    "                    writer.writerow(line)\n",
    "                    for i in range(0,3):\n",
    "                        img_file = line[i].split('/')[-1]\n",
    "                        shutil.copy2('{0}/{1}/IMG/{2}'.format(data_dir,folder,img_file),\n",
    "                                     '{0}/{1}/IMG/{2}'.format(data_dir,filtered_edges_dir,img_file))"
   ]
  },
  {
   "cell_type": "code",
   "execution_count": 59,
   "metadata": {},
   "outputs": [],
   "source": [
    "filter_edges()"
   ]
  },
  {
   "cell_type": "code",
   "execution_count": 60,
   "metadata": {},
   "outputs": [],
   "source": [
    "def extract_data(source, target= final_data_file):\n",
    "    with open('{0}/{1}'.format(data_dir,target),'a') as target_file:\n",
    "        writer = csv.writer(target_file)\n",
    "        with open('{0}/{1}'.format(data_dir,source)) as source_file:\n",
    "            reader = csv.reader(source_file)\n",
    "            for line in reader:\n",
    "                # 0 center, 1 left, 2 right\n",
    "                new_line = [line[i].split('/')[-1] for i in range(0,3)]\n",
    "                # 3 steering\n",
    "                new_line.append(line[3])\n",
    "                writer.writerow(new_line)\n",
    "\n",
    "\n",
    "def file_len(file_name):\n",
    "    with open('{0}/{1}'.format(data_dir, file_name)) as f:\n",
    "        for i, l in enumerate(f):\n",
    "            pass\n",
    "    return i + 1"
   ]
  },
  {
   "cell_type": "code",
   "execution_count": 61,
   "metadata": {},
   "outputs": [],
   "source": [
    "data_dirs = ['data',\n",
    "'track1-anti-center',\n",
    "'track1-anti-stable',\n",
    "'track1-center',\n",
    "'track1-stable',\n",
    "'track2-center',\n",
    "filtered_edges_dir]\n",
    "\n",
    "\n",
    "data_files = ['{}/driving_log.csv'.format(d) for d in data_dirs]\n",
    "\n",
    "total_line = sum([ file_len(file) for file in data_files])\n",
    "\n",
    "def concat_set():\n",
    "    for file in data_files:\n",
    "        extract_data(file)    \n",
    "\n",
    "concat_set()\n",
    "\n",
    "real_result = file_len(final_data_file)\n",
    "\n",
    "\n",
    "assert total_line == real_result"
   ]
  },
  {
   "cell_type": "code",
   "execution_count": 62,
   "metadata": {},
   "outputs": [
    {
     "name": "stdout",
     "output_type": "stream",
     "text": [
      "expected 29171\nreturned 29171\n"
     ]
    }
   ],
   "source": [
    "print('expected {0}'.format(total_line))\n",
    "print('returned {0}'.format(real_result))"
   ]
  },
  {
   "cell_type": "code",
   "execution_count": 63,
   "metadata": {},
   "outputs": [],
   "source": [
    "def copy_img(source, target):\n",
    "    for file in os.listdir('{0}/{1}/'.format(data_dir, source)):\n",
    "        shutil.copy2('{0}/{1}/{2}'.format(data_dir, source, file),\n",
    "                     '{0}/{1}/'.format(data_dir, target))"
   ]
  },
  {
   "cell_type": "code",
   "execution_count": 64,
   "metadata": {},
   "outputs": [
    {
     "name": "stdout",
     "output_type": "stream",
     "text": [
      "['data/IMG', 'track1-anti-center/IMG', 'track1-anti-stable/IMG', 'track1-center/IMG', 'track1-stable/IMG', 'track2-center/IMG', 'filtered_edges/IMG']\n"
     ]
    }
   ],
   "source": [
    "img_dirs = ['{}/IMG'.format(d) for d in data_dirs]\n",
    "print(img_dirs)"
   ]
  },
  {
   "cell_type": "code",
   "execution_count": 65,
   "metadata": {},
   "outputs": [],
   "source": [
    "for folder in img_dirs:\n",
    "    copy_img(folder, '{}/IMG'.format(final_dir))"
   ]
  },
  {
   "cell_type": "code",
   "execution_count": 71,
   "metadata": {},
   "outputs": [
    {
     "name": "stdout",
     "output_type": "stream",
     "text": [
      "data seems fine if you dont see any error!\n"
     ]
    }
   ],
   "source": [
    "# verify data\n",
    "import os.path\n",
    "\n",
    "\n",
    "def verify(data_file = final_data_file, img_dir = final_dir):\n",
    "    with open('{0}/{1}'.format(data_dir, data_file),'r') as log:\n",
    "        reader = csv.reader(log)\n",
    "        for line in reader:\n",
    "            # 0 center, 1 left, 2 right\n",
    "                for i in range(0,3):\n",
    "                    img_file = '{0}/{1}/IMG/{2}'.format(data_dir, img_dir, line[i])\n",
    "                    # print(img_file)\n",
    "                    assert os.path.isfile(img_file)\n",
    "\n",
    "\n",
    "verify()\n",
    "print(\"data seems fine if you dont see any error!\")"
   ]
  },
  {
   "cell_type": "code",
   "execution_count": 80,
   "metadata": {},
   "outputs": [],
   "source": [
    "import random\n",
    "\n",
    "ints = [random.randint(0,29171) for x in range(0, 30)]\n",
    "ints.sort()"
   ]
  },
  {
   "cell_type": "code",
   "execution_count": 81,
   "metadata": {},
   "outputs": [],
   "source": [
    "# random sample for local test\n",
    "\n",
    "def sample(data_file = final_data_file, img_dir = final_dir, test_dir = 'local_test'):\n",
    "    with open('{0}/{1}/{2}'.format(data_dir,test_dir,driving_file),'a') as target_file:\n",
    "        writer = csv.writer(target_file)\n",
    "        with open('{0}/{1}'.format(data_dir, data_file),'r') as log:\n",
    "            reader = csv.reader(log)\n",
    "            idx = 0\n",
    "            for line in reader:\n",
    "                # 0 center, 1 left, 2 right\n",
    "                if idx in ints:\n",
    "                    writer.writerow(line)\n",
    "                    for i in range(0,3):\n",
    "                        img_file = '{0}/{1}/IMG/{2}'.format(data_dir, img_dir, line[i])\n",
    "                        shutil.copy2(img_file,\n",
    "                     '{0}/{1}/IMG/'.format(data_dir, test_dir))\n",
    "                idx += 1"
   ]
  },
  {
   "cell_type": "code",
   "execution_count": 82,
   "metadata": {},
   "outputs": [],
   "source": [
    "sample()"
   ]
  },
  {
   "cell_type": "code",
   "execution_count": 86,
   "metadata": {},
   "outputs": [
    {
     "name": "stdout",
     "output_type": "stream",
     "text": [
      "sampled data seems fine\n"
     ]
    }
   ],
   "source": [
    "verify('local_test/{}'.format(driving_file),'local_test')\n",
    "print(\"sampled data seems fine\")"
   ]
  },
  {
   "cell_type": "code",
   "execution_count": null,
   "metadata": {},
   "outputs": [],
   "source": [
    ""
   ]
  }
 ],
 "metadata": {
  "kernelspec": {
   "display_name": "Python 2",
   "language": "python",
   "name": "python2"
  },
  "language_info": {
   "codemirror_mode": {
    "name": "ipython",
    "version": 2.0
   },
   "file_extension": ".py",
   "mimetype": "text/x-python",
   "name": "python",
   "nbconvert_exporter": "python",
   "pygments_lexer": "ipython2",
   "version": "2.7.6"
  }
 },
 "nbformat": 4,
 "nbformat_minor": 0
}