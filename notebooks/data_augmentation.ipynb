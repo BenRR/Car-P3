{
 "cells": [
  {
   "cell_type": "code",
   "execution_count": 1,
   "metadata": {},
   "outputs": [],
   "source": [
    "import csv\n",
    "import cv2\n",
    "import numpy as np\n",
    "import os\n",
    "\n",
    "data_dir =\"{}/Desktop\".format(os.environ['HOME'])\n",
    "driving_file = 'driving_log.csv'"
   ]
  },
  {
   "cell_type": "code",
   "execution_count": 2,
   "metadata": {},
   "outputs": [],
   "source": [
    "def multi_cam(folder, output_file, correction = 0.2):\n",
    "        with open('{0}/{1}/{2}'.format(data_dir,folder,output_file),'w') as target_file:\n",
    "            writer = csv.writer(target_file)\n",
    "            with open('{0}/{1}/{2}'.format(data_dir, folder, driving_file),'r') as log:\n",
    "                reader = csv.reader(log)\n",
    "                for line in reader:\n",
    "                    center_file = line[0]\n",
    "                    left_file = line[1]\n",
    "                    right_file = line[2]\n",
    "                    steering_center = float(line[3])\n",
    "                    steering_left = steering_center + correction\n",
    "                    steering_right = steering_center - correction\n",
    "                    writer.writerow([center_file, str(steering_center)])\n",
    "                    writer.writerow([left_file, str(steering_left)])\n",
    "                    writer.writerow([right_file, str(steering_right)])"
   ]
  },
  {
   "cell_type": "code",
   "execution_count": 3,
   "metadata": {},
   "outputs": [],
   "source": [
    "multi_cam('track1-fix', 'training-set.csv')"
   ]
  },
  {
   "cell_type": "code",
   "execution_count": 4,
   "metadata": {},
   "outputs": [],
   "source": [
    "def flip(input_dir, output_dir):\n",
    "    with open('{0}/{1}/{2}'.format(data_dir,output_dir,driving_file),'w') as target_file:\n",
    "        writer = csv.writer(target_file)\n",
    "        with open('{0}/{1}/{2}'.format(data_dir, input_dir, driving_file),'r') as log:\n",
    "            reader = csv.reader(log)\n",
    "            for line in reader:\n",
    "                # 0 center, 1 left, 2 right 3 steering\n",
    "                measurement = float(-1 * float(line[3]))\n",
    "                #print(measurement)\n",
    "                for i in range(0,3):\n",
    "                    img_file = '{0}/{1}/IMG/{2}'.format(data_dir, input_dir, line[i])\n",
    "                    img = cv2.imread(img_file)\n",
    "                    cv2.imwrite('{0}/{1}/IMG/flipped_{2}'.format(data_dir, output_dir, line[i]), \n",
    "                                cv2.flip(img, 1))\n",
    "                new_img_files = ['flipped_{}'.format(line[i]) for i in range(0,3)]\n",
    "                new_img_files.append(str(measurement))\n",
    "                #print(new_img_files)\n",
    "                writer.writerow(new_img_files)"
   ]
  },
  {
   "cell_type": "code",
   "execution_count": null,
   "metadata": {},
   "outputs": [],
   "source": [
    ""
   ]
  },
  {
   "cell_type": "code",
   "execution_count": 9,
   "metadata": {},
   "outputs": [],
   "source": [
    "import os.path\n",
    "\n",
    "\n",
    "def verify(data_file , img_dir):\n",
    "    with open('{0}/{1}'.format(data_dir, data_file),'r') as log:\n",
    "        reader = csv.reader(log)\n",
    "        for line in reader:\n",
    "            assert len(line) == 2            \n",
    "            # 0 center, 1 left, 2 right\n",
    "            for i in range(0,0):\n",
    "                img_file = '{0}/{1}/IMG/{2}'.format(data_dir, img_dir, line[i])\n",
    "                # print(img_file)\n",
    "                assert os.path.isfile(img_file)"
   ]
  },
  {
   "cell_type": "code",
   "execution_count": 10,
   "metadata": {},
   "outputs": [],
   "source": [
    "verify('{0}/{1}'.format('track1-fix','training-set.csv'),'track1-fix')"
   ]
  },
  {
   "cell_type": "code",
   "execution_count": 27,
   "metadata": {},
   "outputs": [],
   "source": [
    "flip('local_test','flipped_local')\n",
    "verify('{0}/{1}'.format('flipped_local',driving_file),'flipped_local')"
   ]
  },
  {
   "cell_type": "code",
   "execution_count": 30,
   "metadata": {},
   "outputs": [],
   "source": [
    "flip('final','flipped_final')"
   ]
  },
  {
   "cell_type": "code",
   "execution_count": 37,
   "metadata": {},
   "outputs": [],
   "source": [
    "import shutil\n",
    "\n",
    "def merge(source, target):\n",
    "    with open('{0}/{1}/{2}'.format(data_dir,target,driving_file),'a') as target_file:\n",
    "        writer = csv.writer(target_file)\n",
    "        with open('{0}/{1}/{2}'.format(data_dir, source, driving_file),'r') as log:\n",
    "            reader = csv.reader(log)\n",
    "            for line in reader:\n",
    "                writer.writerow(line)\n",
    "    for file in os.listdir('{0}/{1}/IMG/'.format(data_dir, source)):\n",
    "        shutil.copy2('{0}/{1}/IMG/{2}'.format(data_dir, source, file),\n",
    "                     '{0}/{1}/IMG/'.format(data_dir, target))"
   ]
  },
  {
   "cell_type": "code",
   "execution_count": 35,
   "metadata": {},
   "outputs": [],
   "source": [
    "# merge('flipped_local','local_test')"
   ]
  },
  {
   "cell_type": "code",
   "execution_count": 36,
   "metadata": {},
   "outputs": [],
   "source": [
    "verify('{0}/{1}'.format('local_test',driving_file),'local_test')"
   ]
  },
  {
   "cell_type": "code",
   "execution_count": 38,
   "metadata": {},
   "outputs": [],
   "source": [
    "# merge('flipped_final','final')"
   ]
  },
  {
   "cell_type": "code",
   "execution_count": 39,
   "metadata": {},
   "outputs": [],
   "source": [
    "verify('{0}/{1}'.format('final',driving_file),'final')"
   ]
  },
  {
   "cell_type": "code",
   "execution_count": 43,
   "metadata": {},
   "outputs": [],
   "source": [
    ""
   ]
  },
  {
   "cell_type": "code",
   "execution_count": 44,
   "metadata": {},
   "outputs": [],
   "source": [
    "# multi_cam('final','training_set.csv')"
   ]
  },
  {
   "cell_type": "code",
   "execution_count": 47,
   "metadata": {},
   "outputs": [],
   "source": [
    "multi_cam('local_test', 'training_set.csv')"
   ]
  },
  {
   "cell_type": "code",
   "execution_count": null,
   "metadata": {},
   "outputs": [],
   "source": [
    ""
   ]
  }
 ],
 "metadata": {
  "kernelspec": {
   "display_name": "Python 3",
   "language": "python",
   "name": "python3"
  },
  "language_info": {
   "codemirror_mode": {
    "name": "ipython",
    "version": 3.0
   },
   "file_extension": ".py",
   "mimetype": "text/x-python",
   "name": "python",
   "nbconvert_exporter": "python",
   "pygments_lexer": "ipython3",
   "version": "3.5.2"
  },
  "widgets": {
   "state": {},
   "version": "1.1.2"
  }
 },
 "nbformat": 4,
 "nbformat_minor": 0
}